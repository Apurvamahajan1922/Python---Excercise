{
 "cells": [
  {
   "cell_type": "markdown",
   "id": "5b390c84",
   "metadata": {},
   "source": [
    "________________________________________________________________________________________________________________________\n",
    "- workshop , arranged 10th jan 2022 to 14th jan 2022, online..\n",
    "\n",
    "- Contact: 9975707273   Gmail: aistatics.info@gmail.com\n",
    "\n",
    "- Exercise: day1st\n",
    "\n",
    "_ _________________________________________________________________________________________________________________________\n",
    "_  _________________________________________________________________________________________________________________________"
   ]
  },
  {
   "cell_type": "code",
   "execution_count": 15,
   "id": "7e72f8d0",
   "metadata": {},
   "outputs": [
    {
     "data": {
      "text/plain": [
       "17038"
      ]
     },
     "execution_count": 15,
     "metadata": {},
     "output_type": "execute_result"
    }
   ],
   "source": [
    "import numpy as mp\n",
    "np.random.randint(17021,17083)\n"
   ]
  },
  {
   "cell_type": "markdown",
   "id": "15700104",
   "metadata": {},
   "source": [
    "#### Print your  name using print function"
   ]
  },
  {
   "cell_type": "code",
   "execution_count": 1,
   "id": "2d5c1551",
   "metadata": {},
   "outputs": [
    {
     "name": "stdout",
     "output_type": "stream",
     "text": [
      "X Y Z\n"
     ]
    }
   ],
   "source": []
  },
  {
   "cell_type": "markdown",
   "id": "bab303bf",
   "metadata": {},
   "source": [
    "#### Write True or False \n"
   ]
  },
  {
   "cell_type": "raw",
   "id": "6c3b3115",
   "metadata": {},
   "source": [
    "#After sentense write variable declaration whether it is true or False\n",
    "example:  abc=[1,2,4]     # True\n",
    "\n",
    "abs=3\n",
    "1__a=[123]\n",
    "a__1=[123]\n",
    "__a=[\"1111\"]\n",
    "kjklkj2=(1,2,3)\n",
    "xyz@=55\n",
    "x1234t5678990989898=[1,2,3]\n",
    "1233=44\n",
    "@abs={1,2,3}\n",
    "pune=pune\n",
    "pune=44\n",
    "pune123=44\n",
    "123pune=44\n",
    "1_@pune=44\n",
    "pune@123=44\n",
    "pune______12345=[\"pune\"]\n",
    "____pune=[\"123\"]\n",
    "a_1_b_2=abc\n",
    "\n"
   ]
  },
  {
   "cell_type": "markdown",
   "id": "4a4f6298",
   "metadata": {},
   "source": [
    "#### Difference between = and == (in Two lines)"
   ]
  },
  {
   "cell_type": "code",
   "execution_count": null,
   "id": "453e1398",
   "metadata": {},
   "outputs": [],
   "source": []
  },
  {
   "cell_type": "markdown",
   "id": "89480911",
   "metadata": {},
   "source": [
    "#### What is difference between list and tuple (in Two lines)"
   ]
  },
  {
   "cell_type": "code",
   "execution_count": null,
   "id": "fc57734b",
   "metadata": {},
   "outputs": [],
   "source": []
  },
  {
   "cell_type": "code",
   "execution_count": 2,
   "id": "efc96cad",
   "metadata": {},
   "outputs": [
    {
     "ename": "NameError",
     "evalue": "name 'Print' is not defined",
     "output_type": "error",
     "traceback": [
      "\u001b[1;31m---------------------------------------------------------------------------\u001b[0m",
      "\u001b[1;31mNameError\u001b[0m                                 Traceback (most recent call last)",
      "\u001b[1;32m<ipython-input-2-0b9c86ccc503>\u001b[0m in \u001b[0;36m<module>\u001b[1;34m\u001b[0m\n\u001b[0;32m      1\u001b[0m \u001b[1;31m#reason of error\u001b[0m\u001b[1;33m\u001b[0m\u001b[1;33m\u001b[0m\u001b[1;33m\u001b[0m\u001b[0m\n\u001b[1;32m----> 2\u001b[1;33m \u001b[0mPrint\u001b[0m\u001b[1;33m(\u001b[0m\u001b[1;36m123\u001b[0m\u001b[1;33m)\u001b[0m\u001b[1;33m\u001b[0m\u001b[1;33m\u001b[0m\u001b[0m\n\u001b[0m",
      "\u001b[1;31mNameError\u001b[0m: name 'Print' is not defined"
     ]
    }
   ],
   "source": [
    "#reason of error \n"
   ]
  },
  {
   "cell_type": "code",
   "execution_count": null,
   "id": "5eddaa03",
   "metadata": {},
   "outputs": [],
   "source": []
  },
  {
   "cell_type": "markdown",
   "id": "fa7af009",
   "metadata": {},
   "source": [
    "#### Use Arithematic Operation for a and b, when a= 5,b=-5"
   ]
  },
  {
   "cell_type": "code",
   "execution_count": 3,
   "id": "7a77d1f8",
   "metadata": {},
   "outputs": [
    {
     "data": {
      "text/plain": [
       "0"
      ]
     },
     "execution_count": 3,
     "metadata": {},
     "output_type": "execute_result"
    }
   ],
   "source": []
  },
  {
   "cell_type": "code",
   "execution_count": 4,
   "id": "b39fd610",
   "metadata": {},
   "outputs": [
    {
     "data": {
      "text/plain": [
       "10"
      ]
     },
     "execution_count": 4,
     "metadata": {},
     "output_type": "execute_result"
    }
   ],
   "source": []
  },
  {
   "cell_type": "code",
   "execution_count": 5,
   "id": "7def16e8",
   "metadata": {},
   "outputs": [
    {
     "data": {
      "text/plain": [
       "-1.0"
      ]
     },
     "execution_count": 5,
     "metadata": {},
     "output_type": "execute_result"
    }
   ],
   "source": []
  },
  {
   "cell_type": "code",
   "execution_count": 6,
   "id": "51aec3ac",
   "metadata": {},
   "outputs": [
    {
     "data": {
      "text/plain": [
       "-25"
      ]
     },
     "execution_count": 6,
     "metadata": {},
     "output_type": "execute_result"
    }
   ],
   "source": []
  },
  {
   "cell_type": "markdown",
   "id": "7a950973",
   "metadata": {},
   "source": [
    "#### Use Logical Operation for a and m=10,n=9"
   ]
  },
  {
   "cell_type": "code",
   "execution_count": 8,
   "id": "ea9440f5",
   "metadata": {},
   "outputs": [],
   "source": [
    "#greater than\n"
   ]
  },
  {
   "cell_type": "code",
   "execution_count": 9,
   "id": "0ca5b384",
   "metadata": {},
   "outputs": [],
   "source": [
    "#less than\n"
   ]
  },
  {
   "cell_type": "code",
   "execution_count": 10,
   "id": "ac403529",
   "metadata": {},
   "outputs": [],
   "source": [
    "#not Equal to\n"
   ]
  },
  {
   "cell_type": "code",
   "execution_count": 11,
   "id": "fac1ccc0",
   "metadata": {},
   "outputs": [],
   "source": [
    "#Equal to\n"
   ]
  },
  {
   "cell_type": "markdown",
   "id": "23da0368",
   "metadata": {},
   "source": [
    "#### Write code"
   ]
  },
  {
   "cell_type": "code",
   "execution_count": 12,
   "id": "17c65f2e",
   "metadata": {},
   "outputs": [
    {
     "data": {
      "text/plain": [
       "[23, 501, 'Pune', (1, 2, 3), 2.1, ['Pythonprogram']]"
      ]
     },
     "execution_count": 12,
     "metadata": {},
     "output_type": "execute_result"
    }
   ],
   "source": [
    "L=[23,501,\"Pune\",(1,2,3),2.1,[\"Python\"+\"program\"]]\n",
    "L"
   ]
  },
  {
   "cell_type": "code",
   "execution_count": 13,
   "id": "dd31697e",
   "metadata": {},
   "outputs": [
    {
     "data": {
      "text/plain": [
       "'Pythonprogram'"
      ]
     },
     "execution_count": 13,
     "metadata": {},
     "output_type": "execute_result"
    }
   ],
   "source": []
  },
  {
   "cell_type": "code",
   "execution_count": 14,
   "id": "6ba5a501",
   "metadata": {},
   "outputs": [
    {
     "data": {
      "text/plain": [
       "501"
      ]
     },
     "execution_count": 14,
     "metadata": {},
     "output_type": "execute_result"
    }
   ],
   "source": []
  },
  {
   "cell_type": "code",
   "execution_count": 15,
   "id": "6c6e9ba6",
   "metadata": {},
   "outputs": [
    {
     "data": {
      "text/plain": [
       "['Pune', (1, 2, 3), 2.1]"
      ]
     },
     "execution_count": 15,
     "metadata": {},
     "output_type": "execute_result"
    }
   ],
   "source": []
  },
  {
   "cell_type": "code",
   "execution_count": 16,
   "id": "de97921d",
   "metadata": {},
   "outputs": [
    {
     "data": {
      "text/plain": [
       "[23, 501, 'Baramati', (1, 2, 3), 2.1, ['Pythonprogram']]"
      ]
     },
     "execution_count": 16,
     "metadata": {},
     "output_type": "execute_result"
    }
   ],
   "source": []
  },
  {
   "cell_type": "code",
   "execution_count": 17,
   "id": "55a25806",
   "metadata": {},
   "outputs": [
    {
     "data": {
      "text/plain": [
       "[23, 501, 'Baramati', (1, 2, 3), 2.1, ['Pythonprogram'], 'TCC']"
      ]
     },
     "execution_count": 17,
     "metadata": {},
     "output_type": "execute_result"
    }
   ],
   "source": []
  },
  {
   "cell_type": "code",
   "execution_count": 18,
   "id": "9c4ddf5f",
   "metadata": {},
   "outputs": [
    {
     "data": {
      "text/plain": [
       "[23, 501, 'Baramati', 2.1, ['Pythonprogram'], 'TCC']"
      ]
     },
     "execution_count": 18,
     "metadata": {},
     "output_type": "execute_result"
    }
   ],
   "source": []
  },
  {
   "cell_type": "code",
   "execution_count": 20,
   "id": "17dbbe16",
   "metadata": {},
   "outputs": [
    {
     "data": {
      "text/plain": [
       "[23, 501, (1, 2, 3), 'Baramati', 2.1, ['Pythonprogram'], 'TCC']"
      ]
     },
     "execution_count": 20,
     "metadata": {},
     "output_type": "execute_result"
    }
   ],
   "source": []
  },
  {
   "cell_type": "code",
   "execution_count": 21,
   "id": "354ac9c2",
   "metadata": {},
   "outputs": [
    {
     "data": {
      "text/plain": [
       "[]"
      ]
     },
     "execution_count": 21,
     "metadata": {},
     "output_type": "execute_result"
    }
   ],
   "source": []
  },
  {
   "cell_type": "code",
   "execution_count": 22,
   "id": "59843e46",
   "metadata": {},
   "outputs": [
    {
     "ename": "NameError",
     "evalue": "name 'L' is not defined",
     "output_type": "error",
     "traceback": [
      "\u001b[1;31m---------------------------------------------------------------------------\u001b[0m",
      "\u001b[1;31mNameError\u001b[0m                                 Traceback (most recent call last)",
      "\u001b[1;32m<ipython-input-22-64ad10644b92>\u001b[0m in \u001b[0;36m<module>\u001b[1;34m\u001b[0m\n\u001b[0;32m      1\u001b[0m \u001b[1;32mdel\u001b[0m \u001b[0mL\u001b[0m\u001b[1;33m\u001b[0m\u001b[1;33m\u001b[0m\u001b[0m\n\u001b[1;32m----> 2\u001b[1;33m \u001b[0mL\u001b[0m\u001b[1;33m\u001b[0m\u001b[1;33m\u001b[0m\u001b[0m\n\u001b[0m",
      "\u001b[1;31mNameError\u001b[0m: name 'L' is not defined"
     ]
    }
   ],
   "source": []
  },
  {
   "cell_type": "code",
   "execution_count": 23,
   "id": "fec9298a",
   "metadata": {},
   "outputs": [],
   "source": [
    "t=(1,9,4,6,2)   #tuple"
   ]
  },
  {
   "cell_type": "code",
   "execution_count": 24,
   "id": "58b78762",
   "metadata": {},
   "outputs": [
    {
     "data": {
      "text/plain": [
       "(4, 6, 2)"
      ]
     },
     "execution_count": 24,
     "metadata": {},
     "output_type": "execute_result"
    }
   ],
   "source": []
  },
  {
   "cell_type": "code",
   "execution_count": 25,
   "id": "91919940",
   "metadata": {},
   "outputs": [
    {
     "data": {
      "text/plain": [
       "(1, 9, 4)"
      ]
     },
     "execution_count": 25,
     "metadata": {},
     "output_type": "execute_result"
    }
   ],
   "source": []
  },
  {
   "cell_type": "code",
   "execution_count": 26,
   "id": "c3017687",
   "metadata": {},
   "outputs": [
    {
     "data": {
      "text/plain": [
       "('a', 'b', 'c', 'd')"
      ]
     },
     "execution_count": 26,
     "metadata": {},
     "output_type": "execute_result"
    }
   ],
   "source": [
    "x = (\"a\", \"b\", \"c\", \"d\")\n",
    "x"
   ]
  },
  {
   "cell_type": "code",
   "execution_count": 27,
   "id": "48991a84",
   "metadata": {},
   "outputs": [
    {
     "name": "stdout",
     "output_type": "stream",
     "text": [
      "bd\n"
     ]
    }
   ],
   "source": []
  },
  {
   "cell_type": "markdown",
   "id": "41854cd0",
   "metadata": {},
   "source": [
    "#### Convert  x variable  type in  list datatype and  check. "
   ]
  },
  {
   "cell_type": "code",
   "execution_count": 28,
   "id": "d021a60c",
   "metadata": {},
   "outputs": [
    {
     "data": {
      "text/plain": [
       "['a', 'b', 'c', 'd']"
      ]
     },
     "execution_count": 28,
     "metadata": {},
     "output_type": "execute_result"
    }
   ],
   "source": []
  },
  {
   "cell_type": "code",
   "execution_count": 29,
   "id": "f53a6145",
   "metadata": {},
   "outputs": [
    {
     "data": {
      "text/plain": [
       "list"
      ]
     },
     "execution_count": 29,
     "metadata": {},
     "output_type": "execute_result"
    }
   ],
   "source": []
  },
  {
   "cell_type": "code",
   "execution_count": 30,
   "id": "dd9d6100",
   "metadata": {},
   "outputs": [
    {
     "name": "stdout",
     "output_type": "stream",
     "text": [
      "\n",
      "\n",
      "\n"
     ]
    }
   ],
   "source": [
    "areas = [\"hallway\", 11.25, \"kitchen\", 18.0, \"living room\", 20.0, \"bedroom\", 10.75, \"bathroom\", 9.50]\n",
    "\n",
    "# Print out second element from areas\n",
    "print()\n",
    "\n",
    "# Print out last element from areas\n",
    "print()\n",
    "\n",
    "# Print out the area of the living room\n",
    "print()"
   ]
  },
  {
   "cell_type": "markdown",
   "id": "28d7cbbf",
   "metadata": {},
   "source": [
    "# Set and dict"
   ]
  },
  {
   "cell_type": "code",
   "execution_count": 31,
   "id": "f2bd1979",
   "metadata": {},
   "outputs": [
    {
     "data": {
      "text/plain": [
       "{'item1': 45.5, 'item2': 35, 'item3': 41.3, 'item4': 55, 'item5': 24}"
      ]
     },
     "execution_count": 31,
     "metadata": {},
     "output_type": "execute_result"
    }
   ],
   "source": [
    "Sample_data={'item1': 45.50, 'item2':35, 'item3': 41.30, 'item4':55, 'item5': 24}\n",
    "Sample_data"
   ]
  },
  {
   "cell_type": "code",
   "execution_count": 32,
   "id": "1bcb7e93",
   "metadata": {},
   "outputs": [
    {
     "data": {
      "text/plain": [
       "35"
      ]
     },
     "execution_count": 32,
     "metadata": {},
     "output_type": "execute_result"
    }
   ],
   "source": []
  },
  {
   "cell_type": "code",
   "execution_count": 33,
   "id": "66b2684e",
   "metadata": {},
   "outputs": [
    {
     "data": {
      "text/plain": [
       "dict_keys(['item1', 'item2', 'item3', 'item4', 'item5'])"
      ]
     },
     "execution_count": 33,
     "metadata": {},
     "output_type": "execute_result"
    }
   ],
   "source": []
  },
  {
   "cell_type": "code",
   "execution_count": 34,
   "id": "373231cf",
   "metadata": {},
   "outputs": [
    {
     "data": {
      "text/plain": [
       "dict_values([45.5, 35, 41.3, 55, 24])"
      ]
     },
     "execution_count": 34,
     "metadata": {},
     "output_type": "execute_result"
    }
   ],
   "source": []
  },
  {
   "cell_type": "code",
   "execution_count": 35,
   "id": "dfb4bf93",
   "metadata": {},
   "outputs": [
    {
     "data": {
      "text/plain": [
       "{'item1': 45.5, 'item2': 35, 'item3': 41.3, 'item4': 100, 'item5': 24}"
      ]
     },
     "execution_count": 35,
     "metadata": {},
     "output_type": "execute_result"
    }
   ],
   "source": []
  },
  {
   "cell_type": "code",
   "execution_count": null,
   "id": "df135bf0",
   "metadata": {},
   "outputs": [],
   "source": []
  },
  {
   "cell_type": "code",
   "execution_count": 36,
   "id": "9e565b9e",
   "metadata": {},
   "outputs": [],
   "source": [
    "# Create the d\n",
    "d = {\"hallway\": 11.25, \"kitchen\":18.0, \"living room\": 20.0, \"bedroom\": 10.75, \"bathroom\": 9.50}\n"
   ]
  },
  {
   "cell_type": "code",
   "execution_count": 37,
   "id": "976fd9b4",
   "metadata": {},
   "outputs": [],
   "source": [
    "# Replace the bathroom area by 10\n"
   ]
  },
  {
   "cell_type": "code",
   "execution_count": 38,
   "id": "23fc94c2",
   "metadata": {},
   "outputs": [],
   "source": [
    "# Change \"living room\" to \"chill zone\""
   ]
  },
  {
   "cell_type": "markdown",
   "id": "ce502765",
   "metadata": {},
   "source": [
    "#### Create Empty set and check type"
   ]
  },
  {
   "cell_type": "code",
   "execution_count": 39,
   "id": "b8a84781",
   "metadata": {},
   "outputs": [
    {
     "data": {
      "text/plain": [
       "set"
      ]
     },
     "execution_count": 39,
     "metadata": {},
     "output_type": "execute_result"
    }
   ],
   "source": []
  },
  {
   "cell_type": "markdown",
   "id": "c55d64cf",
   "metadata": {},
   "source": [
    "#### Create two sets name of X and Y and apply two methods "
   ]
  },
  {
   "cell_type": "code",
   "execution_count": null,
   "id": "fdfe6d4a",
   "metadata": {},
   "outputs": [],
   "source": []
  },
  {
   "cell_type": "code",
   "execution_count": null,
   "id": "c412333c",
   "metadata": {},
   "outputs": [],
   "source": []
  },
  {
   "cell_type": "code",
   "execution_count": null,
   "id": "2ffadb30",
   "metadata": {},
   "outputs": [],
   "source": []
  },
  {
   "cell_type": "markdown",
   "id": "1244f2f4",
   "metadata": {},
   "source": [
    "#### Create  list name of L1 and apply Five methods \n"
   ]
  },
  {
   "cell_type": "code",
   "execution_count": null,
   "id": "285f0a1f",
   "metadata": {},
   "outputs": [],
   "source": []
  },
  {
   "cell_type": "code",
   "execution_count": null,
   "id": "9a734a22",
   "metadata": {},
   "outputs": [],
   "source": []
  },
  {
   "cell_type": "code",
   "execution_count": null,
   "id": "329af0f7",
   "metadata": {},
   "outputs": [],
   "source": []
  },
  {
   "cell_type": "markdown",
   "id": "298bb83c",
   "metadata": {},
   "source": [
    "#### Create  tuple name of T1 and apply two methods \n"
   ]
  },
  {
   "cell_type": "code",
   "execution_count": null,
   "id": "6039931f",
   "metadata": {},
   "outputs": [],
   "source": []
  },
  {
   "cell_type": "code",
   "execution_count": null,
   "id": "c8c4fc28",
   "metadata": {},
   "outputs": [],
   "source": []
  },
  {
   "cell_type": "code",
   "execution_count": null,
   "id": "33e9db71",
   "metadata": {},
   "outputs": [],
   "source": []
  },
  {
   "cell_type": "markdown",
   "id": "3fd6a214",
   "metadata": {},
   "source": [
    "#### Create dict name of D1 and apply two methods \n"
   ]
  },
  {
   "cell_type": "code",
   "execution_count": null,
   "id": "7ca46078",
   "metadata": {},
   "outputs": [],
   "source": []
  },
  {
   "cell_type": "code",
   "execution_count": null,
   "id": "ec308895",
   "metadata": {},
   "outputs": [],
   "source": []
  },
  {
   "cell_type": "code",
   "execution_count": null,
   "id": "47c6e58c",
   "metadata": {},
   "outputs": [],
   "source": []
  },
  {
   "cell_type": "markdown",
   "id": "420aa47d",
   "metadata": {},
   "source": [
    "#### Write variable declaration norms \n"
   ]
  },
  {
   "cell_type": "code",
   "execution_count": null,
   "id": "12962465",
   "metadata": {},
   "outputs": [],
   "source": []
  },
  {
   "cell_type": "code",
   "execution_count": null,
   "id": "35238930",
   "metadata": {},
   "outputs": [],
   "source": []
  }
 ],
 "metadata": {
  "kernelspec": {
   "display_name": "Python 3",
   "language": "python",
   "name": "python3"
  },
  "language_info": {
   "codemirror_mode": {
    "name": "ipython",
    "version": 3
   },
   "file_extension": ".py",
   "mimetype": "text/x-python",
   "name": "python",
   "nbconvert_exporter": "python",
   "pygments_lexer": "ipython3",
   "version": "3.8.8"
  }
 },
 "nbformat": 4,
 "nbformat_minor": 5
}
