{
 "cells": [
  {
   "cell_type": "markdown",
   "id": "d936fb41",
   "metadata": {},
   "source": [
    "## Nested loop calculate sums"
   ]
  },
  {
   "cell_type": "code",
   "execution_count": 1,
   "id": "8d13b1d5",
   "metadata": {},
   "outputs": [
    {
     "name": "stdout",
     "output_type": "stream",
     "text": [
      "1\n",
      "2\n",
      "3\n",
      "4\n",
      "5\n",
      "6\n",
      "2\n",
      "3\n",
      "4\n",
      "5\n",
      "6\n",
      "7\n",
      "3\n",
      "4\n",
      "5\n",
      "6\n",
      "7\n",
      "8\n",
      "4\n",
      "5\n",
      "6\n",
      "7\n",
      "8\n",
      "9\n",
      "5\n",
      "6\n",
      "7\n",
      "8\n",
      "9\n",
      "10\n"
     ]
    }
   ],
   "source": [
    "for i in range (1, 6):\n",
    "    for j in range (6):\n",
    "        print (i + j)"
   ]
  },
  {
   "cell_type": "markdown",
   "id": "6a7863c8",
   "metadata": {},
   "source": [
    "## Create a list 1 to 20 numbers using a while loop"
   ]
  },
  {
   "cell_type": "code",
   "execution_count": 2,
   "id": "1440d986",
   "metadata": {},
   "outputs": [
    {
     "name": "stdout",
     "output_type": "stream",
     "text": [
      "[1, 2, 3, 4, 5, 6, 7, 8, 9, 10, 11, 12, 13, 14, 15, 16, 17, 18, 19, 20]\n"
     ]
    }
   ],
   "source": [
    "numbers = []\n",
    "for i in range(1, 21):\n",
    "    numbers.append(i)\n",
    "print(numbers)"
   ]
  },
  {
   "cell_type": "markdown",
   "id": "37f85019",
   "metadata": {},
   "source": [
    "## create a list of 20 to 1 value using while loop"
   ]
  },
  {
   "cell_type": "code",
   "execution_count": 1,
   "id": "a8945dec",
   "metadata": {},
   "outputs": [
    {
     "name": "stdout",
     "output_type": "stream",
     "text": [
      "[20, 19, 18, 17, 16, 15, 14, 13, 12, 11, 10, 9, 8, 7, 6, 5, 4, 3, 2, 1]\n"
     ]
    }
   ],
   "source": [
    "numbers = []\n",
    "for i in range(20, 0, -1):\n",
    "    numbers.append(i)\n",
    "print(numbers)"
   ]
  },
  {
   "cell_type": "markdown",
   "id": "3ab63f9b",
   "metadata": {},
   "source": [
    "## cube of odd value between 20 to 40"
   ]
  },
  {
   "cell_type": "code",
   "execution_count": 5,
   "id": "171c15c4",
   "metadata": {},
   "outputs": [
    {
     "name": "stdout",
     "output_type": "stream",
     "text": [
      "[9261]\n",
      "[9261, 12167]\n",
      "[9261, 12167, 15625]\n",
      "[9261, 12167, 15625, 19683]\n",
      "[9261, 12167, 15625, 19683, 24389]\n",
      "[9261, 12167, 15625, 19683, 24389, 29791]\n",
      "[9261, 12167, 15625, 19683, 24389, 29791, 35937]\n",
      "[9261, 12167, 15625, 19683, 24389, 29791, 35937, 42875]\n",
      "[9261, 12167, 15625, 19683, 24389, 29791, 35937, 42875, 50653]\n",
      "[9261, 12167, 15625, 19683, 24389, 29791, 35937, 42875, 50653, 59319]\n"
     ]
    }
   ],
   "source": [
    "cubes = []\n",
    "for i in range(21, 41, 2):\n",
    "    cubes.append(i ** 3)\n",
    "    print(cubes)"
   ]
  },
  {
   "cell_type": "markdown",
   "id": "09628618",
   "metadata": {},
   "source": [
    "## printing names and ages from two list [ take 5 friends name in list]"
   ]
  },
  {
   "cell_type": "code",
   "execution_count": 3,
   "id": "563cd266",
   "metadata": {},
   "outputs": [
    {
     "name": "stdout",
     "output_type": "stream",
     "text": [
      "my name is a and my age is 20\n",
      "my name is b and my age is 21\n",
      "my name is c and my age is 23\n",
      "my name is d and my age is 25\n",
      "my name is e and my age is 24\n"
     ]
    }
   ],
   "source": [
    "names = ['a', 'b', 'c', 'd', 'e']\n",
    "ages = [20, 21, 23, 25, 24]\n",
    "for name, age in zip(names, ages):\n",
    "    print(\"my name is\", name,\"and my age is\", age)"
   ]
  },
  {
   "cell_type": "code",
   "execution_count": null,
   "id": "a77d534f",
   "metadata": {},
   "outputs": [],
   "source": []
  }
 ],
 "metadata": {
  "kernelspec": {
   "display_name": "Python 3 (ipykernel)",
   "language": "python",
   "name": "python3"
  },
  "language_info": {
   "codemirror_mode": {
    "name": "ipython",
    "version": 3
   },
   "file_extension": ".py",
   "mimetype": "text/x-python",
   "name": "python",
   "nbconvert_exporter": "python",
   "pygments_lexer": "ipython3",
   "version": "3.9.13"
  }
 },
 "nbformat": 4,
 "nbformat_minor": 5
}
