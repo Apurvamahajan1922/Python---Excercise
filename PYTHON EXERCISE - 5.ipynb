{
 "cells": [
  {
   "cell_type": "markdown",
   "id": "4a96bb55",
   "metadata": {},
   "source": [
    "##  CREATE USER DEFINE FUNCTION :"
   ]
  },
  {
   "cell_type": "code",
   "execution_count": 2,
   "id": "eeb99329",
   "metadata": {},
   "outputs": [
    {
     "name": "stdout",
     "output_type": "stream",
     "text": [
      "4\n"
     ]
    }
   ],
   "source": [
    "# Subtraction of two values\n",
    "def sub(a, b):\n",
    "    return a - b\n",
    "print(sub(7, 3))  # Output: 4"
   ]
  },
  {
   "cell_type": "code",
   "execution_count": 3,
   "id": "87644356",
   "metadata": {},
   "outputs": [
    {
     "name": "stdout",
     "output_type": "stream",
     "text": [
      "24\n"
     ]
    }
   ],
   "source": [
    "# Multiplication of three values\n",
    "def mult(a, b, c):\n",
    "    return a * b * c\n",
    "print(mult(2, 3, 4))  # Output: 24"
   ]
  },
  {
   "cell_type": "code",
   "execution_count": 4,
   "id": "9e9474a6",
   "metadata": {},
   "outputs": [
    {
     "name": "stdout",
     "output_type": "stream",
     "text": [
      "8\n"
     ]
    }
   ],
   "source": [
    "# Power function: base raised to the power of exponent\n",
    "def power(base, exponent):\n",
    "    return base ** exponent\n",
    "print(power(2, 3))  # Output: 8"
   ]
  },
  {
   "cell_type": "code",
   "execution_count": 5,
   "id": "63d8e084",
   "metadata": {},
   "outputs": [
    {
     "name": "stdout",
     "output_type": "stream",
     "text": [
      "125\n"
     ]
    }
   ],
   "source": [
    "# Cube of a value\n",
    "def cube(a):\n",
    "    return a ** 3\n",
    "print(cube(5))  # Output: 125"
   ]
  },
  {
   "cell_type": "code",
   "execution_count": 6,
   "id": "f543a5f2",
   "metadata": {},
   "outputs": [
    {
     "name": "stdout",
     "output_type": "stream",
     "text": [
      "3.0\n"
     ]
    }
   ],
   "source": [
    "# Mean of five values\n",
    "def mean(a, b, c, d, e):\n",
    "    return (a + b + c + d + e) / 5\n",
    "print(mean(1, 2, 3, 4, 5))  # Output: 3.0"
   ]
  },
  {
   "cell_type": "code",
   "execution_count": 7,
   "id": "f5438cd2",
   "metadata": {},
   "outputs": [
    {
     "name": "stdout",
     "output_type": "stream",
     "text": [
      "(14, 6, 40, 2.5)\n"
     ]
    }
   ],
   "source": [
    "# Arithmetic operations: addition, subtraction, multiplication, division\n",
    "def arithmatic(a, b):\n",
    "    addition = a + b\n",
    "    subtraction = a - b\n",
    "    multiplication = a * b\n",
    "    division = a / b\n",
    "\n",
    "    return addition, subtraction, multiplication, division\n",
    "print(arithmatic(10, 4))  # Output: (14, 6, 40, 2.5)\n"
   ]
  }
 ],
 "metadata": {
  "kernelspec": {
   "display_name": "Python 3 (ipykernel)",
   "language": "python",
   "name": "python3"
  },
  "language_info": {
   "codemirror_mode": {
    "name": "ipython",
    "version": 3
   },
   "file_extension": ".py",
   "mimetype": "text/x-python",
   "name": "python",
   "nbconvert_exporter": "python",
   "pygments_lexer": "ipython3",
   "version": "3.9.13"
  }
 },
 "nbformat": 4,
 "nbformat_minor": 5
}
