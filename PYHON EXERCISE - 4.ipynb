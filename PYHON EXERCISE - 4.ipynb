{
 "cells": [
  {
   "cell_type": "markdown",
   "id": "354b7d0e",
   "metadata": {},
   "source": [
    "## USING BY  WHILE LOOP :"
   ]
  },
  {
   "cell_type": "code",
   "execution_count": 1,
   "id": "32fed658",
   "metadata": {},
   "outputs": [
    {
     "name": "stdout",
     "output_type": "stream",
     "text": [
      "1\n",
      "2\n",
      "3\n",
      "4\n"
     ]
    }
   ],
   "source": [
    "i = 1\n",
    "while i < 5:\n",
    "    print(i)\n",
    "    i += 1\n"
   ]
  },
  {
   "cell_type": "code",
   "execution_count": 2,
   "id": "5ec4af68",
   "metadata": {},
   "outputs": [
    {
     "name": "stdout",
     "output_type": "stream",
     "text": [
      "45 pass\n",
      "25 fail\n",
      "95 pass\n",
      "63 pass\n",
      "57 pass\n",
      "84 pass\n",
      "52 pass\n"
     ]
    }
   ],
   "source": [
    "Std = [45, 25, 95, 63, 57, 84, 52]\n",
    "i = 0\n",
    "while i < len(Std):\n",
    "    if Std[i] > 35:\n",
    "        print(Std[i], \"pass\")\n",
    "    else:\n",
    "        print(Std[i], \"fail\")\n",
    "    i += 1\n"
   ]
  },
  {
   "cell_type": "code",
   "execution_count": 3,
   "id": "f45b2a19",
   "metadata": {},
   "outputs": [
    {
     "name": "stdout",
     "output_type": "stream",
     "text": [
      "32 fail\n",
      "45 pass\n",
      "24 fail\n",
      "52 pass\n",
      "4 fail\n",
      "52 pass\n",
      "45 pass\n"
     ]
    }
   ],
   "source": [
    "x = [32, 45, 24, 52, 4, 52, 45]\n",
    "i = 0\n",
    "while i < len(x):\n",
    "    if x[i] > 35:\n",
    "        print(x[i], \"pass\")\n",
    "    else:\n",
    "        print(x[i], \"fail\")\n",
    "    i += 1\n"
   ]
  },
  {
   "cell_type": "code",
   "execution_count": 4,
   "id": "b10cba6d",
   "metadata": {},
   "outputs": [
    {
     "name": "stdout",
     "output_type": "stream",
     "text": [
      "my name is askhay, my subject is maths\n",
      "my name is askhay, my subject is phy\n",
      "my name is askhay, my subject is chem\n",
      "my name is nikhil, my subject is maths\n",
      "my name is nikhil, my subject is phy\n",
      "my name is nikhil, my subject is chem\n",
      "my name is viky, my subject is maths\n",
      "my name is viky, my subject is phy\n",
      "my name is viky, my subject is chem\n",
      "my name is sourabh, my subject is maths\n",
      "my name is sourabh, my subject is phy\n",
      "my name is sourabh, my subject is chem\n",
      "my name is Abhi, my subject is maths\n",
      "my name is Abhi, my subject is phy\n",
      "my name is Abhi, my subject is chem\n"
     ]
    }
   ],
   "source": [
    "l = [\"askhay\", \"nikhil\", \"viky\", \"sourabh\", \"Abhi\"]\n",
    "Subject = [\"maths\", \"phy\", \"chem\"]\n",
    "i = 0\n",
    "while i < len(l):\n",
    "    j = 0\n",
    "    while j < len(Subject):\n",
    "        print(\"my name is \" + l[i] + \", my subject is \" + Subject[j])\n",
    "        j += 1\n",
    "    i += 1\n"
   ]
  },
  {
   "cell_type": "code",
   "execution_count": 5,
   "id": "3b99f5c9",
   "metadata": {},
   "outputs": [
    {
     "name": "stdout",
     "output_type": "stream",
     "text": [
      "Pune\n",
      "Pune\n",
      "Pune\n",
      "Pune\n",
      "Pune\n"
     ]
    }
   ],
   "source": [
    "i = 0\n",
    "while i < 5:\n",
    "    print(\"Pune\")\n",
    "    i += 1\n"
   ]
  },
  {
   "cell_type": "code",
   "execution_count": 6,
   "id": "31a1b97b",
   "metadata": {},
   "outputs": [
    {
     "name": "stdout",
     "output_type": "stream",
     "text": [
      "[0, 2, 4, 6, 8, 10, 12, 14, 16]\n"
     ]
    }
   ],
   "source": [
    "def only_even(a):\n",
    "    x = []\n",
    "    i = 0\n",
    "    while i < a:\n",
    "        if i % 2 == 1:\n",
    "            i += 1\n",
    "            continue\n",
    "        x.append(i)\n",
    "        i += 1\n",
    "    print(x)\n",
    "\n",
    "only_even(18)\n"
   ]
  },
  {
   "cell_type": "code",
   "execution_count": 7,
   "id": "d97e35ef",
   "metadata": {},
   "outputs": [
    {
     "name": "stdout",
     "output_type": "stream",
     "text": [
      "b\n",
      "a\n",
      "n\n",
      "a\n",
      "n\n",
      "a\n"
     ]
    }
   ],
   "source": [
    "word = \"banana\"\n",
    "i = 0\n",
    "while i < len(word):\n",
    "    print(word[i])\n",
    "    i += 1\n"
   ]
  },
  {
   "cell_type": "code",
   "execution_count": 8,
   "id": "bf4ca0e0",
   "metadata": {},
   "outputs": [
    {
     "name": "stdout",
     "output_type": "stream",
     "text": [
      "the list does not contain an even number\n"
     ]
    }
   ],
   "source": [
    "numbers = [11, 33, 55, 39, 55, 75, 37, 21, 23, 41, 13]\n",
    "i = 0\n",
    "even_found = False\n",
    "\n",
    "while i < len(numbers):\n",
    "    if numbers[i] % 2 == 0:\n",
    "        print('the list contains an even number')\n",
    "        even_found = True\n",
    "        break\n",
    "    i += 1\n",
    "\n",
    "if not even_found:\n",
    "    print('the list does not contain an even number')\n"
   ]
  },
  {
   "cell_type": "code",
   "execution_count": 9,
   "id": "4d8109af",
   "metadata": {},
   "outputs": [
    {
     "name": "stdout",
     "output_type": "stream",
     "text": [
      "1 odd\n",
      "2 even\n",
      "3 odd\n",
      "4 even\n",
      "5 odd\n",
      "6 even\n",
      "7 odd\n",
      "8 even\n",
      "9 odd\n",
      "10 even\n",
      "11 odd\n",
      "12 even\n",
      "13 odd\n",
      "14 even\n",
      "15 odd\n",
      "16 even\n",
      "17 odd\n",
      "18 even\n",
      "19 odd\n",
      "20 even\n",
      "21 odd\n",
      "22 even\n",
      "23 odd\n",
      "24 even\n",
      "25 odd\n",
      "26 even\n",
      "27 odd\n",
      "28 even\n",
      "29 odd\n",
      "30 even\n",
      "31 odd\n",
      "32 even\n",
      "33 odd\n",
      "34 even\n",
      "35 odd\n",
      "36 even\n",
      "37 odd\n",
      "38 even\n",
      "39 odd\n",
      "40 even\n",
      "41 odd\n",
      "42 even\n",
      "43 odd\n",
      "44 even\n",
      "45 odd\n",
      "46 even\n",
      "47 odd\n",
      "48 even\n",
      "49 odd\n",
      "50 even\n"
     ]
    }
   ],
   "source": [
    "n = 1\n",
    "while n <= 50:\n",
    "    if n % 2 == 0:\n",
    "        print(n, \"even\")\n",
    "    else:\n",
    "        print(n, \"odd\")\n",
    "    n += 1\n"
   ]
  },
  {
   "cell_type": "code",
   "execution_count": 10,
   "id": "011a1666",
   "metadata": {},
   "outputs": [
    {
     "name": "stdout",
     "output_type": "stream",
     "text": [
      "1\n",
      "4\n",
      "9\n",
      "16\n",
      "25\n",
      "36\n",
      "49\n",
      "64\n",
      "81\n",
      "100\n",
      "121\n",
      "144\n",
      "169\n",
      "196\n",
      "225\n",
      "256\n",
      "289\n",
      "324\n",
      "361\n",
      "400\n"
     ]
    }
   ],
   "source": [
    "x = 1\n",
    "while x <= 20:\n",
    "    s = x ** 2\n",
    "    print(s)\n",
    "    x += 1\n"
   ]
  },
  {
   "cell_type": "code",
   "execution_count": 11,
   "id": "144f6901",
   "metadata": {},
   "outputs": [
    {
     "name": "stdout",
     "output_type": "stream",
     "text": [
      "83\n",
      "45\n"
     ]
    }
   ],
   "source": [
    "m = [5, 4, 83, 2, 45, 6]\n",
    "i = 0\n",
    "while i < len(m):\n",
    "    if m[i] > 20:\n",
    "        print(m[i])\n",
    "    i += 1\n"
   ]
  },
  {
   "cell_type": "code",
   "execution_count": 12,
   "id": "2547f9ca",
   "metadata": {},
   "outputs": [
    {
     "name": "stdout",
     "output_type": "stream",
     "text": [
      "t\n",
      "a\n",
      "t\n",
      "i\n",
      "t\n",
      "i\n",
      "c\n"
     ]
    }
   ],
   "source": [
    "DATA = \"statistics\"\n",
    "i = 0\n",
    "while i < len(DATA):\n",
    "    if DATA[i] != \"s\":\n",
    "        print(DATA[i])\n",
    "    i += 1\n"
   ]
  },
  {
   "cell_type": "code",
   "execution_count": 13,
   "id": "3482ebc4",
   "metadata": {},
   "outputs": [
    {
     "name": "stdout",
     "output_type": "stream",
     "text": [
      "1 + 0 = 1\n",
      "1 + 1 = 2\n",
      "1 + 2 = 3\n",
      "1 + 3 = 4\n",
      "1 + 4 = 5\n",
      "1 + 5 = 6\n",
      "2 + 0 = 2\n",
      "2 + 1 = 3\n",
      "2 + 2 = 4\n",
      "2 + 3 = 5\n",
      "2 + 4 = 6\n",
      "2 + 5 = 7\n",
      "3 + 0 = 3\n",
      "3 + 1 = 4\n",
      "3 + 2 = 5\n",
      "3 + 3 = 6\n",
      "3 + 4 = 7\n",
      "3 + 5 = 8\n",
      "4 + 0 = 4\n",
      "4 + 1 = 5\n",
      "4 + 2 = 6\n",
      "4 + 3 = 7\n",
      "4 + 4 = 8\n",
      "4 + 5 = 9\n",
      "5 + 0 = 5\n",
      "5 + 1 = 6\n",
      "5 + 2 = 7\n",
      "5 + 3 = 8\n",
      "5 + 4 = 9\n",
      "5 + 5 = 10\n"
     ]
    }
   ],
   "source": [
    "i = 1\n",
    "while i < 6:\n",
    "    j = 0\n",
    "    while j < 6:\n",
    "        print(i, \"+\", j, \"=\", i + j)\n",
    "        j += 1\n",
    "    i += 1\n"
   ]
  },
  {
   "cell_type": "code",
   "execution_count": 14,
   "id": "31fbd62e",
   "metadata": {},
   "outputs": [
    {
     "name": "stdout",
     "output_type": "stream",
     "text": [
      "[1, 2, 3, 4, 5, 6, 7, 8, 9, 10, 11, 12, 13, 14, 15, 16, 17, 18, 19, 20]\n"
     ]
    }
   ],
   "source": [
    "my_list = []\n",
    "i = 1\n",
    "while i <= 20:\n",
    "    my_list.append(i)\n",
    "    i += 1\n",
    "print(my_list)\n"
   ]
  },
  {
   "cell_type": "code",
   "execution_count": 15,
   "id": "1dd48ffe",
   "metadata": {},
   "outputs": [
    {
     "name": "stdout",
     "output_type": "stream",
     "text": [
      "21 = 9261\n",
      "23 = 12167\n",
      "25 = 15625\n",
      "27 = 19683\n",
      "29 = 24389\n",
      "31 = 29791\n",
      "33 = 35937\n",
      "35 = 42875\n",
      "37 = 50653\n",
      "39 = 59319\n"
     ]
    }
   ],
   "source": [
    "i = 20\n",
    "while i <= 40:\n",
    "    if i % 2 == 1:\n",
    "        print(i, \"=\", i ** 3)\n",
    "    i += 1\n"
   ]
  },
  {
   "cell_type": "code",
   "execution_count": 16,
   "id": "7abd3b14",
   "metadata": {},
   "outputs": [
    {
     "name": "stdout",
     "output_type": "stream",
     "text": [
      "my name is Monika my age is 22\n",
      "my name is Priti my age is 21\n",
      "my name is kirti my age is 22\n",
      "my name is dhaval my age is 28\n",
      "my name is Sakshi my age is 23\n",
      "my name is supriya my age is 24\n",
      "my name is prashant my age is 24\n"
     ]
    }
   ],
   "source": [
    "name = ['Monika', 'Priti', 'kirti', 'dhaval', 'Sakshi', 'supriya', 'prashant']\n",
    "ages = [22, 21, 22, 28, 23, 24, 24]\n",
    "i = 0\n",
    "\n",
    "while i < len(name):\n",
    "    print(\"my name is\", name[i], \"my age is\", ages[i])\n",
    "    i += 1\n"
   ]
  },
  {
   "cell_type": "code",
   "execution_count": 17,
   "id": "296ce05d",
   "metadata": {},
   "outputs": [
    {
     "name": "stdout",
     "output_type": "stream",
     "text": [
      "['prsahant', 'supriya', 'Sakshi', 'dhaval', 'kirti', 'Priti', 'Monika']\n"
     ]
    }
   ],
   "source": [
    "name = ['Monika', 'Priti', 'kirti', 'dhaval', 'Sakshi', 'supriya', 'prsahant']\n",
    "length = len(name)\n",
    "i = 0\n",
    "\n",
    "while i < length // 2:\n",
    "    name[i], name[length - 1 - i] = name[length - 1 - i], name[i]\n",
    "    i += 1\n",
    "\n",
    "print(name)\n"
   ]
  },
  {
   "cell_type": "code",
   "execution_count": 18,
   "id": "ba736946",
   "metadata": {},
   "outputs": [
    {
     "name": "stdout",
     "output_type": "stream",
     "text": [
      "10\n"
     ]
    }
   ],
   "source": [
    "s = \"statistics\"\n",
    "n = 0\n",
    "i = 0\n",
    "\n",
    "while i < len(s):\n",
    "    n = n + 1\n",
    "    i += 1\n",
    "\n",
    "print(n)\n"
   ]
  },
  {
   "cell_type": "code",
   "execution_count": 19,
   "id": "582f6511",
   "metadata": {},
   "outputs": [
    {
     "name": "stdout",
     "output_type": "stream",
     "text": [
      "18\n"
     ]
    }
   ],
   "source": [
    "l = [4, 5, -65, -6, 2, -3, 7]\n",
    "s = 0\n",
    "i = 0\n",
    "\n",
    "while i < len(l):\n",
    "    if l[i] > 0:\n",
    "        s = s + l[i]\n",
    "    i += 1\n",
    "\n",
    "print(s)\n"
   ]
  },
  {
   "cell_type": "code",
   "execution_count": 20,
   "id": "216beeeb",
   "metadata": {},
   "outputs": [
    {
     "name": "stdout",
     "output_type": "stream",
     "text": [
      "5040\n"
     ]
    }
   ],
   "source": [
    "n = 7\n",
    "s = 1\n",
    "i = 1\n",
    "\n",
    "while i <= n:\n",
    "    s = s * i\n",
    "    i += 1\n",
    "\n",
    "print(s)\n"
   ]
  },
  {
   "cell_type": "code",
   "execution_count": null,
   "id": "e1f17b35",
   "metadata": {},
   "outputs": [],
   "source": []
  }
 ],
 "metadata": {
  "kernelspec": {
   "display_name": "Python 3 (ipykernel)",
   "language": "python",
   "name": "python3"
  },
  "language_info": {
   "codemirror_mode": {
    "name": "ipython",
    "version": 3
   },
   "file_extension": ".py",
   "mimetype": "text/x-python",
   "name": "python",
   "nbconvert_exporter": "python",
   "pygments_lexer": "ipython3",
   "version": "3.9.13"
  }
 },
 "nbformat": 4,
 "nbformat_minor": 5
}
