{
 "cells": [
  {
   "cell_type": "markdown",
   "id": "bb0591e8",
   "metadata": {},
   "source": [
    "## Swapping the first and last element of a list :"
   ]
  },
  {
   "cell_type": "code",
   "execution_count": 23,
   "id": "d5c0ab75",
   "metadata": {},
   "outputs": [
    {
     "name": "stdout",
     "output_type": "stream",
     "text": [
      "[5, 2, 3, 4, 1]\n"
     ]
    }
   ],
   "source": [
    "def swap_first_last(lst):\n",
    "    if len(lst) > 1:\n",
    "        lst[0], lst[-1] = lst[-1], lst[0]\n",
    "    return lst\n",
    "\n",
    "# Example usage\n",
    "my_list = [1, 2, 3, 4, 5]\n",
    "swapped_list = swap_first_last(my_list)\n",
    "print(swapped_list)  # Output: [5, 2, 3, 4, 1]  "
   ]
  },
  {
   "cell_type": "markdown",
   "id": "f7100260",
   "metadata": {},
   "source": [
    "## Counting the length of a string :"
   ]
  },
  {
   "cell_type": "code",
   "execution_count": 21,
   "id": "38b0fc1d",
   "metadata": {},
   "outputs": [
    {
     "name": "stdout",
     "output_type": "stream",
     "text": [
      "13\n"
     ]
    }
   ],
   "source": [
    "def count_string_length(string):\n",
    "    count = 0\n",
    "    for char in string:\n",
    "        count += 1\n",
    "    return count \n",
    "\n",
    "# Example Usage :\n",
    "my_string = \"Hello, World!\"\n",
    "length = count_string_length(my_string)\n",
    "print(length)"
   ]
  },
  {
   "cell_type": "markdown",
   "id": "ca6db530",
   "metadata": {},
   "source": [
    "## Getting the sum of only non-negative integers in a list :"
   ]
  },
  {
   "cell_type": "code",
   "execution_count": 20,
   "id": "713afa43",
   "metadata": {},
   "outputs": [
    {
     "name": "stdout",
     "output_type": "stream",
     "text": [
      "15\n"
     ]
    }
   ],
   "source": [
    "def sum_non_negative_integers(lst):\n",
    "    total = 0\n",
    "    for num in lst:\n",
    "        if num >= 0:\n",
    "            total += num\n",
    "    return total\n",
    "\n",
    "# Example usage\n",
    "my_list = [1, 4, -5, -20, 10]\n",
    "sum_of_non_negative = sum_non_negative_integers(my_list)\n",
    "print(sum_of_non_negative)  # Output: 15"
   ]
  },
  {
   "cell_type": "markdown",
   "id": "5bce351b",
   "metadata": {},
   "source": [
    "## Calculating the factorial of a number :"
   ]
  },
  {
   "cell_type": "code",
   "execution_count": 24,
   "id": "3e616286",
   "metadata": {},
   "outputs": [
    {
     "name": "stdout",
     "output_type": "stream",
     "text": [
      "6\n"
     ]
    }
   ],
   "source": [
    "def factorial(n):\n",
    "    if n < 0:\n",
    "        return None  # Factorial is not defined for negative numbers\n",
    "    elif n == 0:\n",
    "        return 1  # Factorial of 0 is 1\n",
    "    else:\n",
    "        result = 1\n",
    "        for i in range(1, n + 1):\n",
    "            result *= i\n",
    "        return result\n",
    "\n",
    "# Example usage\n",
    "number = 3\n",
    "factorial_result = factorial(number)\n",
    "print(factorial_result)  # Output: 6"
   ]
  },
  {
   "cell_type": "code",
   "execution_count": null,
   "id": "b7146955",
   "metadata": {},
   "outputs": [],
   "source": []
  }
 ],
 "metadata": {
  "kernelspec": {
   "display_name": "Python 3 (ipykernel)",
   "language": "python",
   "name": "python3"
  },
  "language_info": {
   "codemirror_mode": {
    "name": "ipython",
    "version": 3
   },
   "file_extension": ".py",
   "mimetype": "text/x-python",
   "name": "python",
   "nbconvert_exporter": "python",
   "pygments_lexer": "ipython3",
   "version": "3.9.13"
  }
 },
 "nbformat": 4,
 "nbformat_minor": 5
}
